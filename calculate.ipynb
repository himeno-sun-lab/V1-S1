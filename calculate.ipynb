{
 "cells": [
  {
   "cell_type": "code",
   "execution_count": 1,
   "metadata": {},
   "outputs": [],
   "source": [
    "import numpy as np\n",
    "\n",
    "def calculate_sigma(p_center, p_value, distance):\n",
    "    \"\"\"\n",
    "    Calculate sigma (standard deviation) for a 2D Gaussian based on p_center, p_value, and distance.\n",
    "    \n",
    "    Parameters:\n",
    "    - p_center: float, maximum connection probability at center (0,0)\n",
    "    - p_value: float, connection probability at distance r\n",
    "    - distance: float, the distance r at which p_value is measured (unit consistent with your model)\n",
    "    \n",
    "    Returns:\n",
    "    - sigma: float, the standard deviation\n",
    "    \"\"\"\n",
    "    if p_value >= p_center:\n",
    "        raise ValueError(\"p_value must be smaller than p_center.\")\n",
    "    if p_value <= 0 or p_center <= 0:\n",
    "        raise ValueError(\"p_value and p_center must both be positive.\")\n",
    "\n",
    "    sigma = distance / np.sqrt(-2 * np.log(p_value / p_center))\n",
    "    return sigma\n"
   ]
  },
  {
   "cell_type": "code",
   "execution_count": 3,
   "metadata": {},
   "outputs": [
    {
     "data": {
      "text/plain": [
       "np.float64(0.5742190238754875)"
      ]
     },
     "execution_count": 3,
     "metadata": {},
     "output_type": "execute_result"
    }
   ],
   "source": [
    "calculate_sigma(0.1, 0.064, (0.816-0.2735))"
   ]
  },
  {
   "cell_type": "code",
   "execution_count": 15,
   "metadata": {},
   "outputs": [
    {
     "name": "stdout",
     "output_type": "stream",
     "text": [
      "反推出的 sigma ≈ 411.40 μm\n"
     ]
    }
   ],
   "source": [
    "import numpy as np\n",
    "from scipy.integrate import dblquad\n",
    "from scipy.optimize import minimize_scalar\n",
    "\n",
    "def average_prob_given_sigma(sigma, p_center, size_um=1000.0):\n",
    "    \"\"\"\n",
    "    在 1x1mm 的区域中，计算给定 sigma 时的平均连接概率\n",
    "    \"\"\"\n",
    "    def integrand(x, y):\n",
    "        return np.exp(-(x**2 + y**2) / (2 * sigma**2))\n",
    "    \n",
    "    # 积分范围从 -500um 到 +500um\n",
    "    L = size_um / 2\n",
    "    integral, _ = dblquad(integrand, -L, L, lambda x: -L, lambda x: L)\n",
    "    area = size_um**2\n",
    "    avg_p = p_center * integral / area\n",
    "    return avg_p\n",
    "\n",
    "def find_sigma_from_avg(avg_p, p_center, size_um=1000.0):\n",
    "    \"\"\"\n",
    "    给定平均连接概率 avg_p 和最大连接概率 p_center，反推出高斯分布 sigma\n",
    "    \"\"\"\n",
    "    def objective(sigma):\n",
    "        if sigma <= 0:\n",
    "            return np.inf\n",
    "        pred = average_prob_given_sigma(sigma, p_center, size_um)\n",
    "        return abs(pred - avg_p)\n",
    "    \n",
    "    result = minimize_scalar(objective, bounds=(10, 1000), method='bounded')\n",
    "    return result.x\n",
    "\n",
    "# 示例：图中某个连接为 25% × 34% = 0.085，p_center = 0.1\n",
    "p_center = 0.1\n",
    "avg_p = 0.064 # 表中值\n",
    "\n",
    "sigma = find_sigma_from_avg(avg_p, p_center)\n",
    "print(f\"反推出的 sigma ≈ {sigma:.2f} μm\")\n"
   ]
  },
  {
   "cell_type": "code",
   "execution_count": 1,
   "metadata": {},
   "outputs": [],
   "source": [
    "Psg_params_list = [\n",
    "        [{'rate': 100.0}, {'rate': 0.0}, {'rate': 0.0}, {'rate': 0.0}],\n",
    "        [{'rate': 0.0}, {'rate': 100.0}, {'rate': 0.0}, {'rate': 0.0}],\n",
    "        [{'rate': 0.0}, {'rate': 0.0}, {'rate': 100.0}, {'rate': 0.0}],\n",
    "        [{'rate': 0.0}, {'rate': 0.0}, {'rate': 0.0}, {'rate': 100.0}]\n",
    "    ]"
   ]
  },
  {
   "cell_type": "code",
   "execution_count": 2,
   "metadata": {},
   "outputs": [
    {
     "data": {
      "text/plain": [
       "[{'rate': 0.0}, {'rate': 100.0}, {'rate': 0.0}, {'rate': 0.0}]"
      ]
     },
     "execution_count": 2,
     "metadata": {},
     "output_type": "execute_result"
    }
   ],
   "source": [
    "Psg_params_list[1]"
   ]
  }
 ],
 "metadata": {
  "kernelspec": {
   "display_name": "Python 3",
   "language": "python",
   "name": "python3"
  },
  "language_info": {
   "codemirror_mode": {
    "name": "ipython",
    "version": 3
   },
   "file_extension": ".py",
   "mimetype": "text/x-python",
   "name": "python",
   "nbconvert_exporter": "python",
   "pygments_lexer": "ipython3",
   "version": "3.13.2"
  }
 },
 "nbformat": 4,
 "nbformat_minor": 2
}
